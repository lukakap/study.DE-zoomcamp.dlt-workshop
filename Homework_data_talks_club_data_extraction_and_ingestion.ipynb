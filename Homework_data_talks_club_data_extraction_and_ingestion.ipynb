{
 "cells": [
  {
   "cell_type": "markdown",
   "metadata": {
    "id": "mrTFv5nPClXh"
   },
   "source": [
    "# **Homework**: Data talks club data engineering zoomcamp Data loading workshop\n",
    "\n",
    "Hello folks, let's practice what we learned - Loading data with the best practices of data engineering.\n",
    "\n",
    "Here are the exercises we will do\n",
    "\n",
    "\n"
   ]
  },
  {
   "cell_type": "markdown",
   "metadata": {
    "id": "wLF4iXf-NR7t"
   },
   "source": [
    "# 1. Use a generator\n",
    "\n",
    "Remember the concept of generator? Let's practice using them to futher our understanding of how they work.\n",
    "\n",
    "Let's define a generator and then run it as practice.\n",
    "\n",
    "**Answer the following questions:**\n",
    "\n",
    "- **Question 1: What is the sum of the outputs of the generator for limit = 5?**\n",
    "- **Question 2: What is the 13th number yielded**\n",
    "\n",
    "I suggest practicing these questions without GPT as the purpose is to further your learning."
   ]
  },
  {
   "cell_type": "code",
   "execution_count": 6,
   "metadata": {
    "colab": {
     "base_uri": "https://localhost:8080/"
    },
    "id": "wLng-bDJN4jf",
    "outputId": "547683cb-5f56-4815-a903-d0d9578eb1f9",
    "tags": []
   },
   "outputs": [
    {
     "name": "stdout",
     "output_type": "stream",
     "text": [
      "index - 1 || value - 1.0 \n",
      "index - 2 || value - 1.4142135623730951 \n",
      "index - 3 || value - 1.7320508075688772 \n",
      "index - 4 || value - 2.0 \n",
      "index - 5 || value - 2.23606797749979 \n",
      "SUM VAL: 8.382332347441762\n"
     ]
    }
   ],
   "source": [
    "def square_root_generator(limit):\n",
    "    n = 1\n",
    "    while n <= limit:\n",
    "        yield n ** 0.5\n",
    "        n += 1\n",
    "\n",
    "# Example usage:\n",
    "limit = 5\n",
    "generator = square_root_generator(limit)\n",
    "\n",
    "sum_ = 0\n",
    "for index, sqrt_value in enumerate(generator):\n",
    "    print(f\"index - {index + 1} || value - {sqrt_value} \")\n",
    "    sum_ += sqrt_value\n",
    "\n",
    "print(f'SUM VAL: {sum_}')\n"
   ]
  },
  {
   "cell_type": "code",
   "execution_count": 8,
   "metadata": {
    "tags": []
   },
   "outputs": [
    {
     "name": "stdout",
     "output_type": "stream",
     "text": [
      "index - 1 || value - 1.0 \n",
      "index - 2 || value - 1.4142135623730951 \n",
      "index - 3 || value - 1.7320508075688772 \n",
      "index - 4 || value - 2.0 \n",
      "index - 5 || value - 2.23606797749979 \n",
      "index - 6 || value - 2.449489742783178 \n",
      "index - 7 || value - 2.6457513110645907 \n",
      "index - 8 || value - 2.8284271247461903 \n",
      "index - 9 || value - 3.0 \n",
      "index - 10 || value - 3.1622776601683795 \n",
      "index - 11 || value - 3.3166247903554 \n",
      "index - 12 || value - 3.4641016151377544 \n",
      "index - 13 || value - 3.605551275463989 \n"
     ]
    }
   ],
   "source": [
    "limit = 13\n",
    "generator = square_root_generator(limit)\n",
    "\n",
    "for index, sqrt_value in enumerate(generator):\n",
    "    print(f\"index - {index + 1} || value - {sqrt_value} \")"
   ]
  },
  {
   "cell_type": "markdown",
   "metadata": {
    "id": "vjWhILzGJMpK"
   },
   "source": [
    "# 2. Append a generator to a table with existing data\n",
    "\n",
    "\n",
    "Below you have 2 generators. You will be tasked to load them to duckdb and answer some questions from the data\n",
    "\n",
    "1. Load the first generator and calculate the sum of ages of all people. Make sure to only load it once.\n",
    "2. Append the second generator to the same table as the first.\n",
    "3. **After correctly appending the data, calculate the sum of all ages of people.**\n",
    "\n",
    "\n"
   ]
  },
  {
   "cell_type": "code",
   "execution_count": 14,
   "metadata": {
    "colab": {
     "base_uri": "https://localhost:8080/"
    },
    "id": "2MoaQcdLBEk6",
    "outputId": "d2b93dc1-d83f-44ea-aeff-fdf51d75f7aa",
    "tags": []
   },
   "outputs": [
    {
     "name": "stdout",
     "output_type": "stream",
     "text": [
      "{'ID': 1, 'Name': 'Person_1', 'Age': 26, 'City': 'City_A'}\n",
      "{'ID': 2, 'Name': 'Person_2', 'Age': 27, 'City': 'City_A'}\n",
      "{'ID': 3, 'Name': 'Person_3', 'Age': 28, 'City': 'City_A'}\n",
      "{'ID': 4, 'Name': 'Person_4', 'Age': 29, 'City': 'City_A'}\n",
      "{'ID': 5, 'Name': 'Person_5', 'Age': 30, 'City': 'City_A'}\n",
      "{'ID': 3, 'Name': 'Person_3', 'Age': 33, 'City': 'City_B', 'Occupation': 'Job_3'}\n",
      "{'ID': 4, 'Name': 'Person_4', 'Age': 34, 'City': 'City_B', 'Occupation': 'Job_4'}\n",
      "{'ID': 5, 'Name': 'Person_5', 'Age': 35, 'City': 'City_B', 'Occupation': 'Job_5'}\n",
      "{'ID': 6, 'Name': 'Person_6', 'Age': 36, 'City': 'City_B', 'Occupation': 'Job_6'}\n",
      "{'ID': 7, 'Name': 'Person_7', 'Age': 37, 'City': 'City_B', 'Occupation': 'Job_7'}\n",
      "{'ID': 8, 'Name': 'Person_8', 'Age': 38, 'City': 'City_B', 'Occupation': 'Job_8'}\n"
     ]
    }
   ],
   "source": [
    "def people_1():\n",
    "    for i in range(1, 6):\n",
    "        yield {\"ID\": i, \"Name\": f\"Person_{i}\", \"Age\": 25 + i, \"City\": \"City_A\"}\n",
    "\n",
    "for person in people_1():\n",
    "    print(person)\n",
    "\n",
    "\n",
    "def people_2():\n",
    "    for i in range(3, 9):\n",
    "        yield {\"ID\": i, \"Name\": f\"Person_{i}\", \"Age\": 30 + i, \"City\": \"City_B\", \"Occupation\": f\"Job_{i}\"}\n",
    "\n",
    "\n",
    "for person in people_2():\n",
    "    print(person)\n"
   ]
  },
  {
   "cell_type": "code",
   "execution_count": 15,
   "metadata": {
    "tags": []
   },
   "outputs": [],
   "source": [
    "import duckdb\n",
    "\n",
    "def get_duckdb_connection(pipeline):\n",
    "    conn = duckdb.connect(f\"{pipeline.pipeline_name}.duckdb\")\n",
    "    conn.sql(f\"SET search_path = '{pipeline.dataset_name}'\")\n",
    "    return conn"
   ]
  },
  {
   "cell_type": "code",
   "execution_count": 16,
   "metadata": {
    "id": "vtdTIm4fvQCN",
    "tags": []
   },
   "outputs": [],
   "source": [
    "import dlt\n",
    "\n",
    "pipeline = dlt.pipeline(\n",
    "    pipeline_name=\"task_two\",\n",
    "    destination=\"duckdb\",\n",
    "    dataset_name=\"people_data\",\n",
    ")"
   ]
  },
  {
   "cell_type": "code",
   "execution_count": 17,
   "metadata": {
    "collapsed": true,
    "jupyter": {
     "outputs_hidden": true
    },
    "tags": []
   },
   "outputs": [
    {
     "data": {
      "text/plain": [
       "LoadInfo(pipeline=<dlt.pipeline.pipeline.Pipeline object at 0x000001DDB7C9EFD0>, metrics={'1707766163.9768975': [{'started_at': DateTime(2024, 2, 12, 19, 29, 24, 613595, tzinfo=Timezone('UTC')), 'finished_at': DateTime(2024, 2, 12, 19, 29, 24, 955498, tzinfo=Timezone('UTC'))}]}, destination_type='dlt.destinations.duckdb', destination_displayable_credentials='duckdb:///C:\\\\Users\\\\Luka\\\\Desktop\\\\DESK\\\\Studying\\\\DE-zoomcamp\\\\dlt-workshop\\\\task_two.duckdb', destination_name='duckdb', environment=None, staging_type=None, staging_name=None, staging_displayable_credentials=None, destination_fingerprint='', dataset_name='people_data', loads_ids=['1707766163.9768975'], load_packages=[LoadPackageInfo(load_id='1707766163.9768975', package_path='C:\\\\Users\\\\Luka\\\\.dlt\\\\pipelines\\\\task_two\\\\load\\\\loaded\\\\1707766163.9768975', state='loaded', schema=Schema task_two at 2051819578512, schema_update={'_dlt_pipeline_state': {'columns': {'version': {'name': 'version', 'data_type': 'bigint', 'nullable': False}, 'engine_version': {'name': 'engine_version', 'data_type': 'bigint', 'nullable': False}, 'pipeline_name': {'name': 'pipeline_name', 'data_type': 'text', 'nullable': False}, 'state': {'name': 'state', 'data_type': 'text', 'nullable': False}, 'created_at': {'name': 'created_at', 'data_type': 'timestamp', 'nullable': False}, 'version_hash': {'name': 'version_hash', 'data_type': 'text', 'nullable': True}, '_dlt_load_id': {'name': '_dlt_load_id', 'data_type': 'text', 'nullable': False}, '_dlt_id': {'name': '_dlt_id', 'data_type': 'text', 'nullable': False, 'unique': True}}, 'write_disposition': 'append', 'name': '_dlt_pipeline_state', 'resource': '_dlt_pipeline_state', 'table_format': None}, '_dlt_version': {'name': '_dlt_version', 'columns': {'version': {'name': 'version', 'data_type': 'bigint', 'nullable': False}, 'engine_version': {'name': 'engine_version', 'data_type': 'bigint', 'nullable': False}, 'inserted_at': {'name': 'inserted_at', 'data_type': 'timestamp', 'nullable': False}, 'schema_name': {'name': 'schema_name', 'data_type': 'text', 'nullable': False}, 'version_hash': {'name': 'version_hash', 'data_type': 'text', 'nullable': False}, 'schema': {'name': 'schema', 'data_type': 'text', 'nullable': False}}, 'write_disposition': 'skip', 'resource': '_dlt_version', 'description': 'Created by DLT. Tracks schema updates', 'table_format': None}, '_dlt_loads': {'name': '_dlt_loads', 'columns': {'load_id': {'name': 'load_id', 'data_type': 'text', 'nullable': False}, 'schema_name': {'name': 'schema_name', 'data_type': 'text', 'nullable': True}, 'status': {'name': 'status', 'data_type': 'bigint', 'nullable': False}, 'inserted_at': {'name': 'inserted_at', 'data_type': 'timestamp', 'nullable': False}, 'schema_version_hash': {'name': 'schema_version_hash', 'data_type': 'text', 'nullable': True}}, 'write_disposition': 'skip', 'resource': '_dlt_loads', 'description': 'Created by DLT. Tracks completed loads', 'table_format': None}, 'people_table': {'name': 'people_table', 'columns': {'id': {'name': 'id', 'data_type': 'bigint', 'nullable': True}, 'name': {'name': 'name', 'data_type': 'text', 'nullable': True}, 'age': {'name': 'age', 'data_type': 'bigint', 'nullable': True}, 'city': {'name': 'city', 'data_type': 'text', 'nullable': True}, '_dlt_load_id': {'name': '_dlt_load_id', 'data_type': 'text', 'nullable': False}, '_dlt_id': {'name': '_dlt_id', 'data_type': 'text', 'nullable': False, 'unique': True}}, 'write_disposition': 'append', 'resource': 'people_table', 'table_format': None}}, completed_at=DateTime(2024, 2, 12, 19, 29, 24, 924710, tzinfo=Timezone('UTC')), jobs={'failed_jobs': [], 'completed_jobs': [LoadJobInfo(state='completed_jobs', file_path='C:\\\\Users\\\\Luka\\\\.dlt\\\\pipelines\\\\task_two\\\\load\\\\loaded\\\\1707766163.9768975\\\\completed_jobs\\\\people_table.1d35784684.0.insert_values', file_size=292, created_at=DateTime(2024, 2, 12, 19, 29, 24, 252410, tzinfo=Timezone('UTC')), elapsed=0.6723003387451172, job_file_info=ParsedLoadJobFileName(table_name='people_table', file_id='1d35784684', retry_count=0, file_format='insert_values'), failed_message=None), LoadJobInfo(state='completed_jobs', file_path='C:\\\\Users\\\\Luka\\\\.dlt\\\\pipelines\\\\task_two\\\\load\\\\loaded\\\\1707766163.9768975\\\\completed_jobs\\\\_dlt_pipeline_state.e246759c2a.0.insert_values', file_size=505, created_at=DateTime(2024, 2, 12, 19, 29, 24, 251409, tzinfo=Timezone('UTC')), elapsed=0.6733007431030273, job_file_info=ParsedLoadJobFileName(table_name='_dlt_pipeline_state', file_id='e246759c2a', retry_count=0, file_format='insert_values'), failed_message=None)], 'started_jobs': [], 'new_jobs': []})], first_run=True)"
      ]
     },
     "execution_count": 17,
     "metadata": {},
     "output_type": "execute_result"
    }
   ],
   "source": [
    "pipeline.run(people_1, table_name=\"people_table\")"
   ]
  },
  {
   "cell_type": "code",
   "execution_count": 18,
   "metadata": {
    "tags": []
   },
   "outputs": [],
   "source": [
    "conn = get_duckdb_connection(pipeline)"
   ]
  },
  {
   "cell_type": "code",
   "execution_count": 19,
   "metadata": {
    "tags": []
   },
   "outputs": [
    {
     "data": {
      "text/html": [
       "<div>\n",
       "<style scoped>\n",
       "    .dataframe tbody tr th:only-of-type {\n",
       "        vertical-align: middle;\n",
       "    }\n",
       "\n",
       "    .dataframe tbody tr th {\n",
       "        vertical-align: top;\n",
       "    }\n",
       "\n",
       "    .dataframe thead th {\n",
       "        text-align: right;\n",
       "    }\n",
       "</style>\n",
       "<table border=\"1\" class=\"dataframe\">\n",
       "  <thead>\n",
       "    <tr style=\"text-align: right;\">\n",
       "      <th></th>\n",
       "      <th>id</th>\n",
       "      <th>name</th>\n",
       "      <th>age</th>\n",
       "      <th>city</th>\n",
       "      <th>_dlt_load_id</th>\n",
       "      <th>_dlt_id</th>\n",
       "    </tr>\n",
       "  </thead>\n",
       "  <tbody>\n",
       "    <tr>\n",
       "      <th>0</th>\n",
       "      <td>1</td>\n",
       "      <td>Person_1</td>\n",
       "      <td>26</td>\n",
       "      <td>City_A</td>\n",
       "      <td>1707766163.9768975</td>\n",
       "      <td>iU1umOmdrlMC6g</td>\n",
       "    </tr>\n",
       "    <tr>\n",
       "      <th>1</th>\n",
       "      <td>2</td>\n",
       "      <td>Person_2</td>\n",
       "      <td>27</td>\n",
       "      <td>City_A</td>\n",
       "      <td>1707766163.9768975</td>\n",
       "      <td>+MgSMFFYPEBwGw</td>\n",
       "    </tr>\n",
       "    <tr>\n",
       "      <th>2</th>\n",
       "      <td>3</td>\n",
       "      <td>Person_3</td>\n",
       "      <td>28</td>\n",
       "      <td>City_A</td>\n",
       "      <td>1707766163.9768975</td>\n",
       "      <td>cY3aL2Ffjvlu9Q</td>\n",
       "    </tr>\n",
       "    <tr>\n",
       "      <th>3</th>\n",
       "      <td>4</td>\n",
       "      <td>Person_4</td>\n",
       "      <td>29</td>\n",
       "      <td>City_A</td>\n",
       "      <td>1707766163.9768975</td>\n",
       "      <td>S+EW3yZCevLl8g</td>\n",
       "    </tr>\n",
       "    <tr>\n",
       "      <th>4</th>\n",
       "      <td>5</td>\n",
       "      <td>Person_5</td>\n",
       "      <td>30</td>\n",
       "      <td>City_A</td>\n",
       "      <td>1707766163.9768975</td>\n",
       "      <td>0CM1dNzSzH9iuA</td>\n",
       "    </tr>\n",
       "  </tbody>\n",
       "</table>\n",
       "</div>"
      ],
      "text/plain": [
       "   id      name  age    city        _dlt_load_id         _dlt_id\n",
       "0   1  Person_1   26  City_A  1707766163.9768975  iU1umOmdrlMC6g\n",
       "1   2  Person_2   27  City_A  1707766163.9768975  +MgSMFFYPEBwGw\n",
       "2   3  Person_3   28  City_A  1707766163.9768975  cY3aL2Ffjvlu9Q\n",
       "3   4  Person_4   29  City_A  1707766163.9768975  S+EW3yZCevLl8g\n",
       "4   5  Person_5   30  City_A  1707766163.9768975  0CM1dNzSzH9iuA"
      ]
     },
     "metadata": {},
     "output_type": "display_data"
    }
   ],
   "source": [
    "table = conn.sql(f\"SELECT * FROM people_table\").df()\n",
    "display(table)"
   ]
  },
  {
   "cell_type": "code",
   "execution_count": 21,
   "metadata": {
    "tags": []
   },
   "outputs": [
    {
     "name": "stdout",
     "output_type": "stream",
     "text": [
      "SUM PEOPLE 1: 140\n"
     ]
    }
   ],
   "source": [
    "people_1_age_sum = table['age'].sum()\n",
    "print(f\"SUM PEOPLE 1: {people_1_age_sum}\")"
   ]
  },
  {
   "cell_type": "code",
   "execution_count": 22,
   "metadata": {
    "collapsed": true,
    "jupyter": {
     "outputs_hidden": true
    },
    "tags": []
   },
   "outputs": [
    {
     "data": {
      "text/plain": [
       "LoadInfo(pipeline=<dlt.pipeline.pipeline.Pipeline object at 0x000001DDB7C9EFD0>, metrics={'1707766189.2646909': [{'started_at': DateTime(2024, 2, 12, 19, 29, 49, 741927, tzinfo=Timezone('UTC')), 'finished_at': DateTime(2024, 2, 12, 19, 29, 50, 194523, tzinfo=Timezone('UTC'))}]}, destination_type='dlt.destinations.duckdb', destination_displayable_credentials='duckdb:///C:\\\\Users\\\\Luka\\\\Desktop\\\\DESK\\\\Studying\\\\DE-zoomcamp\\\\dlt-workshop\\\\task_two.duckdb', destination_name='duckdb', environment=None, staging_type=None, staging_name=None, staging_displayable_credentials=None, destination_fingerprint='', dataset_name='people_data', loads_ids=['1707766189.2646909'], load_packages=[LoadPackageInfo(load_id='1707766189.2646909', package_path='C:\\\\Users\\\\Luka\\\\.dlt\\\\pipelines\\\\task_two\\\\load\\\\loaded\\\\1707766189.2646909', state='loaded', schema=Schema task_two at 2051858806288, schema_update={'people_table': {'name': 'people_table', 'columns': {'occupation': {'name': 'occupation', 'data_type': 'text', 'nullable': True}}, 'write_disposition': 'append', 'resource': 'people_table', 'table_format': None}}, completed_at=DateTime(2024, 2, 12, 19, 29, 50, 145203, tzinfo=Timezone('UTC')), jobs={'failed_jobs': [], 'completed_jobs': [LoadJobInfo(state='completed_jobs', file_path='C:\\\\Users\\\\Luka\\\\.dlt\\\\pipelines\\\\task_two\\\\load\\\\loaded\\\\1707766189.2646909\\\\completed_jobs\\\\people_table.5f65860646.0.insert_values', file_size=336, created_at=DateTime(2024, 2, 12, 19, 29, 49, 335310, tzinfo=Timezone('UTC')), elapsed=0.8098936080932617, job_file_info=ParsedLoadJobFileName(table_name='people_table', file_id='5f65860646', retry_count=0, file_format='insert_values'), failed_message=None)], 'started_jobs': [], 'new_jobs': []})], first_run=False)"
      ]
     },
     "execution_count": 22,
     "metadata": {},
     "output_type": "execute_result"
    }
   ],
   "source": [
    "pipeline.run(people_2, table_name=\"people_table\")"
   ]
  },
  {
   "cell_type": "code",
   "execution_count": 23,
   "metadata": {
    "tags": []
   },
   "outputs": [
    {
     "data": {
      "text/html": [
       "<div>\n",
       "<style scoped>\n",
       "    .dataframe tbody tr th:only-of-type {\n",
       "        vertical-align: middle;\n",
       "    }\n",
       "\n",
       "    .dataframe tbody tr th {\n",
       "        vertical-align: top;\n",
       "    }\n",
       "\n",
       "    .dataframe thead th {\n",
       "        text-align: right;\n",
       "    }\n",
       "</style>\n",
       "<table border=\"1\" class=\"dataframe\">\n",
       "  <thead>\n",
       "    <tr style=\"text-align: right;\">\n",
       "      <th></th>\n",
       "      <th>id</th>\n",
       "      <th>name</th>\n",
       "      <th>age</th>\n",
       "      <th>city</th>\n",
       "      <th>_dlt_load_id</th>\n",
       "      <th>_dlt_id</th>\n",
       "      <th>occupation</th>\n",
       "    </tr>\n",
       "  </thead>\n",
       "  <tbody>\n",
       "    <tr>\n",
       "      <th>0</th>\n",
       "      <td>1</td>\n",
       "      <td>Person_1</td>\n",
       "      <td>26</td>\n",
       "      <td>City_A</td>\n",
       "      <td>1707766163.9768975</td>\n",
       "      <td>iU1umOmdrlMC6g</td>\n",
       "      <td>None</td>\n",
       "    </tr>\n",
       "    <tr>\n",
       "      <th>1</th>\n",
       "      <td>2</td>\n",
       "      <td>Person_2</td>\n",
       "      <td>27</td>\n",
       "      <td>City_A</td>\n",
       "      <td>1707766163.9768975</td>\n",
       "      <td>+MgSMFFYPEBwGw</td>\n",
       "      <td>None</td>\n",
       "    </tr>\n",
       "    <tr>\n",
       "      <th>2</th>\n",
       "      <td>3</td>\n",
       "      <td>Person_3</td>\n",
       "      <td>28</td>\n",
       "      <td>City_A</td>\n",
       "      <td>1707766163.9768975</td>\n",
       "      <td>cY3aL2Ffjvlu9Q</td>\n",
       "      <td>None</td>\n",
       "    </tr>\n",
       "    <tr>\n",
       "      <th>3</th>\n",
       "      <td>4</td>\n",
       "      <td>Person_4</td>\n",
       "      <td>29</td>\n",
       "      <td>City_A</td>\n",
       "      <td>1707766163.9768975</td>\n",
       "      <td>S+EW3yZCevLl8g</td>\n",
       "      <td>None</td>\n",
       "    </tr>\n",
       "    <tr>\n",
       "      <th>4</th>\n",
       "      <td>5</td>\n",
       "      <td>Person_5</td>\n",
       "      <td>30</td>\n",
       "      <td>City_A</td>\n",
       "      <td>1707766163.9768975</td>\n",
       "      <td>0CM1dNzSzH9iuA</td>\n",
       "      <td>None</td>\n",
       "    </tr>\n",
       "    <tr>\n",
       "      <th>5</th>\n",
       "      <td>3</td>\n",
       "      <td>Person_3</td>\n",
       "      <td>33</td>\n",
       "      <td>City_B</td>\n",
       "      <td>1707766189.2646909</td>\n",
       "      <td>E813qszL3PEQvg</td>\n",
       "      <td>Job_3</td>\n",
       "    </tr>\n",
       "    <tr>\n",
       "      <th>6</th>\n",
       "      <td>4</td>\n",
       "      <td>Person_4</td>\n",
       "      <td>34</td>\n",
       "      <td>City_B</td>\n",
       "      <td>1707766189.2646909</td>\n",
       "      <td>2fMfgSUEXwo0LQ</td>\n",
       "      <td>Job_4</td>\n",
       "    </tr>\n",
       "    <tr>\n",
       "      <th>7</th>\n",
       "      <td>5</td>\n",
       "      <td>Person_5</td>\n",
       "      <td>35</td>\n",
       "      <td>City_B</td>\n",
       "      <td>1707766189.2646909</td>\n",
       "      <td>Ly7qQ0X/yBz+Ug</td>\n",
       "      <td>Job_5</td>\n",
       "    </tr>\n",
       "    <tr>\n",
       "      <th>8</th>\n",
       "      <td>6</td>\n",
       "      <td>Person_6</td>\n",
       "      <td>36</td>\n",
       "      <td>City_B</td>\n",
       "      <td>1707766189.2646909</td>\n",
       "      <td>z6ZCyE/Ld7E4+A</td>\n",
       "      <td>Job_6</td>\n",
       "    </tr>\n",
       "    <tr>\n",
       "      <th>9</th>\n",
       "      <td>7</td>\n",
       "      <td>Person_7</td>\n",
       "      <td>37</td>\n",
       "      <td>City_B</td>\n",
       "      <td>1707766189.2646909</td>\n",
       "      <td>MIl5G0c/BWv+Gg</td>\n",
       "      <td>Job_7</td>\n",
       "    </tr>\n",
       "    <tr>\n",
       "      <th>10</th>\n",
       "      <td>8</td>\n",
       "      <td>Person_8</td>\n",
       "      <td>38</td>\n",
       "      <td>City_B</td>\n",
       "      <td>1707766189.2646909</td>\n",
       "      <td>2iLdImk7lZABaA</td>\n",
       "      <td>Job_8</td>\n",
       "    </tr>\n",
       "  </tbody>\n",
       "</table>\n",
       "</div>"
      ],
      "text/plain": [
       "    id      name  age    city        _dlt_load_id         _dlt_id occupation\n",
       "0    1  Person_1   26  City_A  1707766163.9768975  iU1umOmdrlMC6g       None\n",
       "1    2  Person_2   27  City_A  1707766163.9768975  +MgSMFFYPEBwGw       None\n",
       "2    3  Person_3   28  City_A  1707766163.9768975  cY3aL2Ffjvlu9Q       None\n",
       "3    4  Person_4   29  City_A  1707766163.9768975  S+EW3yZCevLl8g       None\n",
       "4    5  Person_5   30  City_A  1707766163.9768975  0CM1dNzSzH9iuA       None\n",
       "5    3  Person_3   33  City_B  1707766189.2646909  E813qszL3PEQvg      Job_3\n",
       "6    4  Person_4   34  City_B  1707766189.2646909  2fMfgSUEXwo0LQ      Job_4\n",
       "7    5  Person_5   35  City_B  1707766189.2646909  Ly7qQ0X/yBz+Ug      Job_5\n",
       "8    6  Person_6   36  City_B  1707766189.2646909  z6ZCyE/Ld7E4+A      Job_6\n",
       "9    7  Person_7   37  City_B  1707766189.2646909  MIl5G0c/BWv+Gg      Job_7\n",
       "10   8  Person_8   38  City_B  1707766189.2646909  2iLdImk7lZABaA      Job_8"
      ]
     },
     "metadata": {},
     "output_type": "display_data"
    }
   ],
   "source": [
    "table = conn.sql(f\"SELECT * FROM people_table\").df()\n",
    "display(table)"
   ]
  },
  {
   "cell_type": "code",
   "execution_count": 24,
   "metadata": {
    "tags": []
   },
   "outputs": [
    {
     "name": "stdout",
     "output_type": "stream",
     "text": [
      "SUM PEOPLE ALL: 353\n"
     ]
    }
   ],
   "source": [
    "people_all_age_sum = table['age'].sum()\n",
    "print(f\"SUM PEOPLE ALL: {people_all_age_sum}\")"
   ]
  },
  {
   "cell_type": "markdown",
   "metadata": {
    "id": "pY4cFAWOSwN1"
   },
   "source": [
    "# 3. Merge a generator\n",
    "\n",
    "Re-use the generators from Exercise 2.\n",
    "\n",
    "A table's primary key needs to be created from the start, so load your data to a new table with primary key ID.\n",
    "\n",
    "Load your first generator first, and then load the second one with merge. Since they have overlapping IDs, some of the records from the first load should be replaced by the ones from the second load.\n",
    "\n",
    "After loading, you should have a total of 8 records, and ID 3 should have age 33.\n",
    "\n",
    "Question: **Calculate the sum of ages of all the people loaded as described above.**\n"
   ]
  },
  {
   "cell_type": "markdown",
   "metadata": {
    "id": "kKB2GTB9oVjr"
   },
   "source": [
    "# Solution: First make sure that the following modules are installed:"
   ]
  },
  {
   "cell_type": "code",
   "execution_count": 25,
   "metadata": {
    "id": "a2-PRBAkGC2K",
    "tags": []
   },
   "outputs": [],
   "source": [
    "pipeline = dlt.pipeline(\n",
    "    pipeline_name=\"task_three\",\n",
    "    destination=\"duckdb\",\n",
    "    dataset_name=\"people_merge_data\",\n",
    ")"
   ]
  },
  {
   "cell_type": "code",
   "execution_count": 26,
   "metadata": {
    "collapsed": true,
    "jupyter": {
     "outputs_hidden": true
    },
    "tags": []
   },
   "outputs": [
    {
     "data": {
      "text/plain": [
       "LoadInfo(pipeline=<dlt.pipeline.pipeline.Pipeline object at 0x000001DDBDC65790>, metrics={'1707766497.0187018': [{'started_at': DateTime(2024, 2, 12, 19, 34, 57, 737276, tzinfo=Timezone('UTC')), 'finished_at': DateTime(2024, 2, 12, 19, 34, 58, 162073, tzinfo=Timezone('UTC'))}]}, destination_type='dlt.destinations.duckdb', destination_displayable_credentials='duckdb:///C:\\\\Users\\\\Luka\\\\Desktop\\\\DESK\\\\Studying\\\\DE-zoomcamp\\\\dlt-workshop\\\\task_three.duckdb', destination_name='duckdb', environment=None, staging_type=None, staging_name=None, staging_displayable_credentials=None, destination_fingerprint='', dataset_name='people_merge_data', loads_ids=['1707766497.0187018'], load_packages=[LoadPackageInfo(load_id='1707766497.0187018', package_path='C:\\\\Users\\\\Luka\\\\.dlt\\\\pipelines\\\\task_three\\\\load\\\\loaded\\\\1707766497.0187018', state='loaded', schema=Schema task_three at 2051896189648, schema_update={'_dlt_pipeline_state': {'columns': {'version': {'name': 'version', 'data_type': 'bigint', 'nullable': False}, 'engine_version': {'name': 'engine_version', 'data_type': 'bigint', 'nullable': False}, 'pipeline_name': {'name': 'pipeline_name', 'data_type': 'text', 'nullable': False}, 'state': {'name': 'state', 'data_type': 'text', 'nullable': False}, 'created_at': {'name': 'created_at', 'data_type': 'timestamp', 'nullable': False}, 'version_hash': {'name': 'version_hash', 'data_type': 'text', 'nullable': True}, '_dlt_load_id': {'name': '_dlt_load_id', 'data_type': 'text', 'nullable': False}, '_dlt_id': {'name': '_dlt_id', 'data_type': 'text', 'nullable': False, 'unique': True}}, 'write_disposition': 'append', 'name': '_dlt_pipeline_state', 'resource': '_dlt_pipeline_state', 'table_format': None}, '_dlt_version': {'name': '_dlt_version', 'columns': {'version': {'name': 'version', 'data_type': 'bigint', 'nullable': False}, 'engine_version': {'name': 'engine_version', 'data_type': 'bigint', 'nullable': False}, 'inserted_at': {'name': 'inserted_at', 'data_type': 'timestamp', 'nullable': False}, 'schema_name': {'name': 'schema_name', 'data_type': 'text', 'nullable': False}, 'version_hash': {'name': 'version_hash', 'data_type': 'text', 'nullable': False}, 'schema': {'name': 'schema', 'data_type': 'text', 'nullable': False}}, 'write_disposition': 'skip', 'resource': '_dlt_version', 'description': 'Created by DLT. Tracks schema updates', 'table_format': None}, '_dlt_loads': {'name': '_dlt_loads', 'columns': {'load_id': {'name': 'load_id', 'data_type': 'text', 'nullable': False}, 'schema_name': {'name': 'schema_name', 'data_type': 'text', 'nullable': True}, 'status': {'name': 'status', 'data_type': 'bigint', 'nullable': False}, 'inserted_at': {'name': 'inserted_at', 'data_type': 'timestamp', 'nullable': False}, 'schema_version_hash': {'name': 'schema_version_hash', 'data_type': 'text', 'nullable': True}}, 'write_disposition': 'skip', 'resource': '_dlt_loads', 'description': 'Created by DLT. Tracks completed loads', 'table_format': None}, 'people_table': {'name': 'people_table', 'columns': {'id': {'name': 'id', 'nullable': False, 'primary_key': True, 'data_type': 'bigint'}, 'name': {'name': 'name', 'data_type': 'text', 'nullable': True}, 'age': {'name': 'age', 'data_type': 'bigint', 'nullable': True}, 'city': {'name': 'city', 'data_type': 'text', 'nullable': True}, '_dlt_load_id': {'name': '_dlt_load_id', 'data_type': 'text', 'nullable': False}, '_dlt_id': {'name': '_dlt_id', 'data_type': 'text', 'nullable': False, 'unique': True}}, 'write_disposition': 'append', 'resource': 'people_table', 'table_format': None}}, completed_at=DateTime(2024, 2, 12, 19, 34, 58, 146822, tzinfo=Timezone('UTC')), jobs={'failed_jobs': [], 'completed_jobs': [LoadJobInfo(state='completed_jobs', file_path='C:\\\\Users\\\\Luka\\\\.dlt\\\\pipelines\\\\task_three\\\\load\\\\loaded\\\\1707766497.0187018\\\\completed_jobs\\\\people_table.d3c5c19f49.0.insert_values', file_size=289, created_at=DateTime(2024, 2, 12, 19, 34, 57, 269361, tzinfo=Timezone('UTC')), elapsed=0.8774614334106445, job_file_info=ParsedLoadJobFileName(table_name='people_table', file_id='d3c5c19f49', retry_count=0, file_format='insert_values'), failed_message=None), LoadJobInfo(state='completed_jobs', file_path='C:\\\\Users\\\\Luka\\\\.dlt\\\\pipelines\\\\task_three\\\\load\\\\loaded\\\\1707766497.0187018\\\\completed_jobs\\\\_dlt_pipeline_state.e7c054ab37.0.insert_values', file_size=514, created_at=DateTime(2024, 2, 12, 19, 34, 57, 268448, tzinfo=Timezone('UTC')), elapsed=0.8783743381500244, job_file_info=ParsedLoadJobFileName(table_name='_dlt_pipeline_state', file_id='e7c054ab37', retry_count=0, file_format='insert_values'), failed_message=None)], 'started_jobs': [], 'new_jobs': []})], first_run=True)"
      ]
     },
     "execution_count": 26,
     "metadata": {},
     "output_type": "execute_result"
    }
   ],
   "source": [
    "pipeline.run(people_1, table_name=\"people_table\", primary_key=\"ID\")"
   ]
  },
  {
   "cell_type": "code",
   "execution_count": 28,
   "metadata": {
    "tags": []
   },
   "outputs": [],
   "source": [
    "conn = get_duckdb_connection(pipeline)"
   ]
  },
  {
   "cell_type": "code",
   "execution_count": 29,
   "metadata": {
    "tags": []
   },
   "outputs": [
    {
     "data": {
      "text/html": [
       "<div>\n",
       "<style scoped>\n",
       "    .dataframe tbody tr th:only-of-type {\n",
       "        vertical-align: middle;\n",
       "    }\n",
       "\n",
       "    .dataframe tbody tr th {\n",
       "        vertical-align: top;\n",
       "    }\n",
       "\n",
       "    .dataframe thead th {\n",
       "        text-align: right;\n",
       "    }\n",
       "</style>\n",
       "<table border=\"1\" class=\"dataframe\">\n",
       "  <thead>\n",
       "    <tr style=\"text-align: right;\">\n",
       "      <th></th>\n",
       "      <th>id</th>\n",
       "      <th>name</th>\n",
       "      <th>age</th>\n",
       "      <th>city</th>\n",
       "      <th>_dlt_load_id</th>\n",
       "      <th>_dlt_id</th>\n",
       "    </tr>\n",
       "  </thead>\n",
       "  <tbody>\n",
       "    <tr>\n",
       "      <th>0</th>\n",
       "      <td>1</td>\n",
       "      <td>Person_1</td>\n",
       "      <td>26</td>\n",
       "      <td>City_A</td>\n",
       "      <td>1707766497.0187018</td>\n",
       "      <td>P01ny8qX0arypg</td>\n",
       "    </tr>\n",
       "    <tr>\n",
       "      <th>1</th>\n",
       "      <td>2</td>\n",
       "      <td>Person_2</td>\n",
       "      <td>27</td>\n",
       "      <td>City_A</td>\n",
       "      <td>1707766497.0187018</td>\n",
       "      <td>KnOvGUzUxkOzqg</td>\n",
       "    </tr>\n",
       "    <tr>\n",
       "      <th>2</th>\n",
       "      <td>3</td>\n",
       "      <td>Person_3</td>\n",
       "      <td>28</td>\n",
       "      <td>City_A</td>\n",
       "      <td>1707766497.0187018</td>\n",
       "      <td>/at50kKI1l+DDA</td>\n",
       "    </tr>\n",
       "    <tr>\n",
       "      <th>3</th>\n",
       "      <td>4</td>\n",
       "      <td>Person_4</td>\n",
       "      <td>29</td>\n",
       "      <td>City_A</td>\n",
       "      <td>1707766497.0187018</td>\n",
       "      <td>V9BpaSwLGp9svQ</td>\n",
       "    </tr>\n",
       "    <tr>\n",
       "      <th>4</th>\n",
       "      <td>5</td>\n",
       "      <td>Person_5</td>\n",
       "      <td>30</td>\n",
       "      <td>City_A</td>\n",
       "      <td>1707766497.0187018</td>\n",
       "      <td>wukxZ2+BBdIBww</td>\n",
       "    </tr>\n",
       "  </tbody>\n",
       "</table>\n",
       "</div>"
      ],
      "text/plain": [
       "   id      name  age    city        _dlt_load_id         _dlt_id\n",
       "0   1  Person_1   26  City_A  1707766497.0187018  P01ny8qX0arypg\n",
       "1   2  Person_2   27  City_A  1707766497.0187018  KnOvGUzUxkOzqg\n",
       "2   3  Person_3   28  City_A  1707766497.0187018  /at50kKI1l+DDA\n",
       "3   4  Person_4   29  City_A  1707766497.0187018  V9BpaSwLGp9svQ\n",
       "4   5  Person_5   30  City_A  1707766497.0187018  wukxZ2+BBdIBww"
      ]
     },
     "metadata": {},
     "output_type": "display_data"
    }
   ],
   "source": [
    "table = conn.sql(f\"SELECT * FROM people_table\").df()\n",
    "display(table)"
   ]
  },
  {
   "cell_type": "code",
   "execution_count": 30,
   "metadata": {
    "collapsed": true,
    "jupyter": {
     "outputs_hidden": true
    },
    "tags": []
   },
   "outputs": [
    {
     "data": {
      "text/plain": [
       "LoadInfo(pipeline=<dlt.pipeline.pipeline.Pipeline object at 0x000001DDBDC65790>, metrics={'1707766575.9755676': [{'started_at': DateTime(2024, 2, 12, 19, 36, 16, 507659, tzinfo=Timezone('UTC')), 'finished_at': DateTime(2024, 2, 12, 19, 36, 17, 87704, tzinfo=Timezone('UTC'))}]}, destination_type='dlt.destinations.duckdb', destination_displayable_credentials='duckdb:///C:\\\\Users\\\\Luka\\\\Desktop\\\\DESK\\\\Studying\\\\DE-zoomcamp\\\\dlt-workshop\\\\task_three.duckdb', destination_name='duckdb', environment=None, staging_type=None, staging_name=None, staging_displayable_credentials=None, destination_fingerprint='', dataset_name='people_merge_data', loads_ids=['1707766575.9755676'], load_packages=[LoadPackageInfo(load_id='1707766575.9755676', package_path='C:\\\\Users\\\\Luka\\\\.dlt\\\\pipelines\\\\task_three\\\\load\\\\loaded\\\\1707766575.9755676', state='loaded', schema=Schema task_three at 2051896571984, schema_update={'people_table': {'name': 'people_table', 'columns': {'occupation': {'name': 'occupation', 'data_type': 'text', 'nullable': True}}, 'write_disposition': 'merge', 'resource': 'people_table', 'table_format': None}}, completed_at=DateTime(2024, 2, 12, 19, 36, 17, 46840, tzinfo=Timezone('UTC')), jobs={'failed_jobs': [], 'completed_jobs': [LoadJobInfo(state='completed_jobs', file_path='C:\\\\Users\\\\Luka\\\\.dlt\\\\pipelines\\\\task_three\\\\load\\\\loaded\\\\1707766575.9755676\\\\completed_jobs\\\\people_table.32cb1e27c0.0.insert_values', file_size=334, created_at=DateTime(2024, 2, 12, 19, 36, 16, 123907, tzinfo=Timezone('UTC')), elapsed=0.9229326248168945, job_file_info=ParsedLoadJobFileName(table_name='people_table', file_id='32cb1e27c0', retry_count=0, file_format='insert_values'), failed_message=None), LoadJobInfo(state='completed_jobs', file_path='C:\\\\Users\\\\Luka\\\\.dlt\\\\pipelines\\\\task_three\\\\load\\\\loaded\\\\1707766575.9755676\\\\completed_jobs\\\\people_table.57c334d420.0.sql', file_size=730, created_at=DateTime(2024, 2, 12, 19, 36, 16, 683372, tzinfo=Timezone('UTC')), elapsed=0.3634674549102783, job_file_info=ParsedLoadJobFileName(table_name='people_table', file_id='57c334d420', retry_count=0, file_format='sql'), failed_message=None)], 'started_jobs': [], 'new_jobs': []})], first_run=False)"
      ]
     },
     "execution_count": 30,
     "metadata": {},
     "output_type": "execute_result"
    }
   ],
   "source": [
    "pipeline.run(people_2, table_name=\"people_table\", primary_key=\"ID\", write_disposition=\"merge\")"
   ]
  },
  {
   "cell_type": "code",
   "execution_count": 31,
   "metadata": {
    "tags": []
   },
   "outputs": [
    {
     "data": {
      "text/html": [
       "<div>\n",
       "<style scoped>\n",
       "    .dataframe tbody tr th:only-of-type {\n",
       "        vertical-align: middle;\n",
       "    }\n",
       "\n",
       "    .dataframe tbody tr th {\n",
       "        vertical-align: top;\n",
       "    }\n",
       "\n",
       "    .dataframe thead th {\n",
       "        text-align: right;\n",
       "    }\n",
       "</style>\n",
       "<table border=\"1\" class=\"dataframe\">\n",
       "  <thead>\n",
       "    <tr style=\"text-align: right;\">\n",
       "      <th></th>\n",
       "      <th>id</th>\n",
       "      <th>name</th>\n",
       "      <th>age</th>\n",
       "      <th>city</th>\n",
       "      <th>_dlt_load_id</th>\n",
       "      <th>_dlt_id</th>\n",
       "      <th>occupation</th>\n",
       "    </tr>\n",
       "  </thead>\n",
       "  <tbody>\n",
       "    <tr>\n",
       "      <th>0</th>\n",
       "      <td>1</td>\n",
       "      <td>Person_1</td>\n",
       "      <td>26</td>\n",
       "      <td>City_A</td>\n",
       "      <td>1707766497.0187018</td>\n",
       "      <td>P01ny8qX0arypg</td>\n",
       "      <td>None</td>\n",
       "    </tr>\n",
       "    <tr>\n",
       "      <th>1</th>\n",
       "      <td>2</td>\n",
       "      <td>Person_2</td>\n",
       "      <td>27</td>\n",
       "      <td>City_A</td>\n",
       "      <td>1707766497.0187018</td>\n",
       "      <td>KnOvGUzUxkOzqg</td>\n",
       "      <td>None</td>\n",
       "    </tr>\n",
       "    <tr>\n",
       "      <th>2</th>\n",
       "      <td>7</td>\n",
       "      <td>Person_7</td>\n",
       "      <td>37</td>\n",
       "      <td>City_B</td>\n",
       "      <td>1707766575.9755676</td>\n",
       "      <td>Za5Uo461rmq+UQ</td>\n",
       "      <td>Job_7</td>\n",
       "    </tr>\n",
       "    <tr>\n",
       "      <th>3</th>\n",
       "      <td>4</td>\n",
       "      <td>Person_4</td>\n",
       "      <td>34</td>\n",
       "      <td>City_B</td>\n",
       "      <td>1707766575.9755676</td>\n",
       "      <td>GG4HCcfc4TKKfg</td>\n",
       "      <td>Job_4</td>\n",
       "    </tr>\n",
       "    <tr>\n",
       "      <th>4</th>\n",
       "      <td>3</td>\n",
       "      <td>Person_3</td>\n",
       "      <td>33</td>\n",
       "      <td>City_B</td>\n",
       "      <td>1707766575.9755676</td>\n",
       "      <td>ckKfVchJ34wOxA</td>\n",
       "      <td>Job_3</td>\n",
       "    </tr>\n",
       "    <tr>\n",
       "      <th>5</th>\n",
       "      <td>6</td>\n",
       "      <td>Person_6</td>\n",
       "      <td>36</td>\n",
       "      <td>City_B</td>\n",
       "      <td>1707766575.9755676</td>\n",
       "      <td>FXAjTCAaiVF0Sw</td>\n",
       "      <td>Job_6</td>\n",
       "    </tr>\n",
       "    <tr>\n",
       "      <th>6</th>\n",
       "      <td>5</td>\n",
       "      <td>Person_5</td>\n",
       "      <td>35</td>\n",
       "      <td>City_B</td>\n",
       "      <td>1707766575.9755676</td>\n",
       "      <td>IcapQSLATlJfLw</td>\n",
       "      <td>Job_5</td>\n",
       "    </tr>\n",
       "    <tr>\n",
       "      <th>7</th>\n",
       "      <td>8</td>\n",
       "      <td>Person_8</td>\n",
       "      <td>38</td>\n",
       "      <td>City_B</td>\n",
       "      <td>1707766575.9755676</td>\n",
       "      <td>Y7rydI86/BkExw</td>\n",
       "      <td>Job_8</td>\n",
       "    </tr>\n",
       "  </tbody>\n",
       "</table>\n",
       "</div>"
      ],
      "text/plain": [
       "   id      name  age    city        _dlt_load_id         _dlt_id occupation\n",
       "0   1  Person_1   26  City_A  1707766497.0187018  P01ny8qX0arypg       None\n",
       "1   2  Person_2   27  City_A  1707766497.0187018  KnOvGUzUxkOzqg       None\n",
       "2   7  Person_7   37  City_B  1707766575.9755676  Za5Uo461rmq+UQ      Job_7\n",
       "3   4  Person_4   34  City_B  1707766575.9755676  GG4HCcfc4TKKfg      Job_4\n",
       "4   3  Person_3   33  City_B  1707766575.9755676  ckKfVchJ34wOxA      Job_3\n",
       "5   6  Person_6   36  City_B  1707766575.9755676  FXAjTCAaiVF0Sw      Job_6\n",
       "6   5  Person_5   35  City_B  1707766575.9755676  IcapQSLATlJfLw      Job_5\n",
       "7   8  Person_8   38  City_B  1707766575.9755676  Y7rydI86/BkExw      Job_8"
      ]
     },
     "metadata": {},
     "output_type": "display_data"
    }
   ],
   "source": [
    "table = conn.sql(f\"SELECT * FROM people_table\").df()\n",
    "display(table)"
   ]
  },
  {
   "cell_type": "code",
   "execution_count": 33,
   "metadata": {
    "tags": []
   },
   "outputs": [
    {
     "name": "stdout",
     "output_type": "stream",
     "text": [
      "SUM OF ALL PEOPLE: 266\n"
     ]
    }
   ],
   "source": [
    "print(f\"SUM OF ALL PEOPLE: {table['age'].sum()}\")"
   ]
  },
  {
   "cell_type": "code",
   "execution_count": null,
   "metadata": {},
   "outputs": [],
   "source": []
  }
 ],
 "metadata": {
  "colab": {
   "provenance": []
  },
  "kernelspec": {
   "display_name": "Python 3 (ipykernel)",
   "language": "python",
   "name": "python3"
  },
  "language_info": {
   "codemirror_mode": {
    "name": "ipython",
    "version": 3
   },
   "file_extension": ".py",
   "mimetype": "text/x-python",
   "name": "python",
   "nbconvert_exporter": "python",
   "pygments_lexer": "ipython3",
   "version": "3.11.5"
  }
 },
 "nbformat": 4,
 "nbformat_minor": 4
}
